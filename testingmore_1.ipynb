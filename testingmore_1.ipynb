{
 "cells": [
  {
   "cell_type": "code",
   "execution_count": 1,
   "id": "9b78482b-3a43-4b65-b4a0-3bf14b1e9021",
   "metadata": {},
   "outputs": [],
   "source": [
    "import pandas as pd\n",
    "from sklearn.feature_extraction.text import TfidfVectorizer\n",
    "from sklearn.model_selection import train_test_split\n",
    "import nltk\n",
    "from nltk.corpus import stopwords\n",
    "from sklearn.model_selection import train_test_split\n",
    "from sklearn.feature_extraction.text import TfidfVectorizer\n",
    "from sklearn.metrics import classification_report\n",
    "from transformers import BertTokenizer, BertForSequenceClassification, AdamW, get_linear_schedule_with_warmup\n",
    "import torch\n",
    "from torch.utils.data import DataLoader, TensorDataset, random_split, SequentialSampler\n",
    "from tqdm import tqdm\n",
    "from gensim.models import Word2Vec\n",
    "from nltk.tokenize import word_tokenize"
   ]
  },
  {
   "cell_type": "code",
   "execution_count": 2,
   "id": "9690ebcf-0c85-474b-8b12-fb306f6c3a54",
   "metadata": {},
   "outputs": [],
   "source": [
    "df =  pd.read_csv(\"final_df.csv\")"
   ]
  },
  {
   "cell_type": "code",
   "execution_count": 3,
   "id": "6622499c-3d89-4072-bff7-846c9facabb2",
   "metadata": {},
   "outputs": [],
   "source": [
    "df.drop(['Unnamed: 0'], axis=1,  inplace=True)"
   ]
  },
  {
   "cell_type": "code",
   "execution_count": 4,
   "id": "68b8377f-c66f-4c69-9c80-4ec0810e2da9",
   "metadata": {},
   "outputs": [
    {
     "data": {
      "text/html": [
       "<div>\n",
       "<style scoped>\n",
       "    .dataframe tbody tr th:only-of-type {\n",
       "        vertical-align: middle;\n",
       "    }\n",
       "\n",
       "    .dataframe tbody tr th {\n",
       "        vertical-align: top;\n",
       "    }\n",
       "\n",
       "    .dataframe thead th {\n",
       "        text-align: right;\n",
       "    }\n",
       "</style>\n",
       "<table border=\"1\" class=\"dataframe\">\n",
       "  <thead>\n",
       "    <tr style=\"text-align: right;\">\n",
       "      <th></th>\n",
       "      <th>text</th>\n",
       "      <th>sadness</th>\n",
       "      <th>joy</th>\n",
       "      <th>love</th>\n",
       "      <th>anger</th>\n",
       "      <th>fear</th>\n",
       "      <th>surprise</th>\n",
       "      <th>total</th>\n",
       "    </tr>\n",
       "  </thead>\n",
       "  <tbody>\n",
       "    <tr>\n",
       "      <th>0</th>\n",
       "      <td>That game hurt.</td>\n",
       "      <td>1</td>\n",
       "      <td>0</td>\n",
       "      <td>0</td>\n",
       "      <td>0</td>\n",
       "      <td>0</td>\n",
       "      <td>0</td>\n",
       "      <td>1</td>\n",
       "    </tr>\n",
       "    <tr>\n",
       "      <th>1</th>\n",
       "      <td>Man I love reddit.</td>\n",
       "      <td>0</td>\n",
       "      <td>0</td>\n",
       "      <td>1</td>\n",
       "      <td>0</td>\n",
       "      <td>0</td>\n",
       "      <td>0</td>\n",
       "      <td>1</td>\n",
       "    </tr>\n",
       "    <tr>\n",
       "      <th>2</th>\n",
       "      <td>So happy for [NAME]. So sad he's not here. Ima...</td>\n",
       "      <td>1</td>\n",
       "      <td>1</td>\n",
       "      <td>0</td>\n",
       "      <td>0</td>\n",
       "      <td>0</td>\n",
       "      <td>0</td>\n",
       "      <td>2</td>\n",
       "    </tr>\n",
       "    <tr>\n",
       "      <th>3</th>\n",
       "      <td>I just came home, what the fuck is this lineup...</td>\n",
       "      <td>0</td>\n",
       "      <td>0</td>\n",
       "      <td>1</td>\n",
       "      <td>0</td>\n",
       "      <td>0</td>\n",
       "      <td>0</td>\n",
       "      <td>1</td>\n",
       "    </tr>\n",
       "    <tr>\n",
       "      <th>4</th>\n",
       "      <td>By far the coolest thing I've seen on this thr...</td>\n",
       "      <td>0</td>\n",
       "      <td>1</td>\n",
       "      <td>0</td>\n",
       "      <td>0</td>\n",
       "      <td>0</td>\n",
       "      <td>0</td>\n",
       "      <td>1</td>\n",
       "    </tr>\n",
       "  </tbody>\n",
       "</table>\n",
       "</div>"
      ],
      "text/plain": [
       "                                                text  sadness  joy  love  \\\n",
       "0                                    That game hurt.        1    0     0   \n",
       "1                                 Man I love reddit.        0    0     1   \n",
       "2  So happy for [NAME]. So sad he's not here. Ima...        1    1     0   \n",
       "3  I just came home, what the fuck is this lineup...        0    0     1   \n",
       "4  By far the coolest thing I've seen on this thr...        0    1     0   \n",
       "\n",
       "   anger  fear  surprise  total  \n",
       "0      0     0         0      1  \n",
       "1      0     0         0      1  \n",
       "2      0     0         0      2  \n",
       "3      0     0         0      1  \n",
       "4      0     0         0      1  "
      ]
     },
     "execution_count": 4,
     "metadata": {},
     "output_type": "execute_result"
    }
   ],
   "source": [
    "df.head()"
   ]
  },
  {
   "cell_type": "code",
   "execution_count": 5,
   "id": "bdcdafde-cedb-471d-886b-42c24b1820ee",
   "metadata": {},
   "outputs": [],
   "source": [
    "train_df, test_df = train_test_split(df, test_size=0.2, random_state=42)"
   ]
  },
  {
   "cell_type": "code",
   "execution_count": null,
   "id": "527ee8d9-994b-4c8e-951d-c6d405ad840a",
   "metadata": {},
   "outputs": [],
   "source": [
    "tfidf_vectorizer = TfidfVectorizer(max_features=5000)\n",
    "X_train_tfidf = tfidf_vectorizer.fit_transform(train_df['text']).toarray()\n",
    "X_test_tfidf = tfidf_vectorizer.transform(test_df['text']).toarray()"
   ]
  },
  {
   "cell_type": "code",
   "execution_count": null,
   "id": "36a58bd0-03e2-4d34-aa7e-9e43e8c4a69d",
   "metadata": {},
   "outputs": [],
   "source": [
    "tokenizer = BertTokenizer.from_pretrained('bert-base-uncased')\n",
    "model = BertForSequenceClassification.from_pretrained('bert-base-uncased', num_labels=6)"
   ]
  },
  {
   "cell_type": "code",
   "execution_count": null,
   "id": "a5e18d2f-c3e7-4c3e-90bc-6c053f133a1d",
   "metadata": {},
   "outputs": [],
   "source": [
    "def prepare_data_for_bert(texts, labels, tokenizer):\n",
    "    \n",
    "    encoded_data = tokenizer(texts, padding=True, truncation=True, return_tensors='pt')\n",
    "    labels = torch.tensor(labels)\n",
    "    return TensorDataset(encoded_data['input_ids'], encoded_data['attention_mask'], labels)\n",
    "\n",
    "train_data = prepare_data_for_bert(train_df['text'], train_df[['sadness', 'joy', 'love', 'anger', 'fear', 'surprise']].values, tokenizer)\n",
    "test_data = prepare_data_for_bert(test_df['text'], test_df[['sadness', 'joy', 'love', 'anger', 'fear', 'surprise']].values, tokenizer)"
   ]
  },
  {
   "cell_type": "code",
   "execution_count": 26,
   "id": "1ea1c2e8-8d45-4fca-b892-3846b53d16f6",
   "metadata": {},
   "outputs": [],
   "source": [
    "df['text'] = df['text'].astype(\"string\")\n",
    "label_columns = ['sadness', 'joy', 'love', 'anger', 'fear', 'surprise']\n",
    "df[label_columns] = df[label_columns].astype(\"float\")"
   ]
  },
  {
   "cell_type": "code",
   "execution_count": null,
   "id": "63428fac-4596-4f8a-8594-fd48f11e61d6",
   "metadata": {},
   "outputs": [],
   "source": []
  },
  {
   "cell_type": "code",
   "execution_count": 30,
   "id": "dc5f5890-0513-47c8-ae2d-63af21348875",
   "metadata": {},
   "outputs": [
    {
     "ename": "NameError",
     "evalue": "name 'train_texts' is not defined",
     "output_type": "error",
     "traceback": [
      "\u001b[0;31m---------------------------------------------------------------------------\u001b[0m",
      "\u001b[0;31mNameError\u001b[0m                                 Traceback (most recent call last)",
      "Cell \u001b[0;32mIn[30], line 1\u001b[0m\n\u001b[0;32m----> 1\u001b[0m train_data \u001b[38;5;241m=\u001b[39m prepare_data_for_bert(texts\u001b[38;5;241m=\u001b[39m\u001b[43mtrain_texts\u001b[49m, labels\u001b[38;5;241m=\u001b[39mtrain_labels, tokenizer\u001b[38;5;241m=\u001b[39mtokenizer)\n\u001b[1;32m      2\u001b[0m test_data \u001b[38;5;241m=\u001b[39m prepare_data_for_bert(texts\u001b[38;5;241m=\u001b[39mtest_texts, labels\u001b[38;5;241m=\u001b[39mtest_labels, tokenizer\u001b[38;5;241m=\u001b[39mtokenizer)\n",
      "\u001b[0;31mNameError\u001b[0m: name 'train_texts' is not defined"
     ]
    }
   ],
   "source": [
    "train_data = prepare_data_for_bert(texts=train_texts, labels=train_labels, tokenizer=tokenizer)\n",
    "test_data = prepare_data_for_bert(texts=test_texts, labels=test_labels, tokenizer=tokenizer)"
   ]
  },
  {
   "cell_type": "code",
   "execution_count": 29,
   "id": "718b2ff6-c078-4c16-b1ef-41394a708ab7",
   "metadata": {},
   "outputs": [],
   "source": [
    "# Ensure 'text' column is in string format\n",
    "df['text'] = df['text'].astype(str)\n",
    "\n",
    "# Prepare data for BERT\n",
    "texts = df['text'].tolist()  # Convert 'text' column to a list of strings\n",
    "labels = df[['sadness', 'joy', 'love', 'anger', 'fear', 'surprise']].values.astype(float)\n",
    "\n",
    "# Now, 'texts' is a list of strings and 'labels' is a numpy array of floats"
   ]
  },
  {
   "cell_type": "code",
   "execution_count": 27,
   "id": "b369f833-30d7-45aa-8d4c-71a37f8619d1",
   "metadata": {
    "scrolled": true
   },
   "outputs": [
    {
     "data": {
      "text/plain": [
       "text        string[python]\n",
       "sadness            float64\n",
       "joy                float64\n",
       "love               float64\n",
       "anger              float64\n",
       "fear               float64\n",
       "surprise           float64\n",
       "total              float64\n",
       "dtype: object"
      ]
     },
     "execution_count": 27,
     "metadata": {},
     "output_type": "execute_result"
    }
   ],
   "source": [
    "df.dtypes"
   ]
  },
  {
   "cell_type": "code",
   "execution_count": null,
   "id": "4fef2a80-6083-44a0-9472-de7965e71f71",
   "metadata": {},
   "outputs": [],
   "source": [
    "# Ensure 'text' column is in string format\n",
    "df['text'] = df['text'].astype(str)\n",
    "\n",
    "# Prepare data for BERT\n",
    "texts = df['text'].tolist()  # Convert 'text' column to a list of strings\n",
    "labels = df[['sadness', 'joy', 'love', 'anger', 'fear', 'surprise']].values.astype(float)\n",
    "\n",
    "# Split the data into training and testing sets\n",
    "train_texts, test_texts, train_labels, test_labels = train_test_split(texts, labels, test_size=0.2, random_state=42)\n",
    "\n",
    "# Now, 'train_texts', 'test_texts' are lists of strings, and 'train_labels', 'test_labels' are numpy arrays of floats\n",
    "\n",
    "train_data = prepare_data_for_bert(texts=train_texts, labels=train_labels, tokenizer=tokenizer)\n",
    "test_data = prepare_data_for_bert(texts=test_texts, labels=test_labels, tokenizer=tokenizer)"
   ]
  },
  {
   "cell_type": "code",
   "execution_count": null,
   "id": "218f624b-a141-496b-a017-ef0757efd9f3",
   "metadata": {},
   "outputs": [],
   "source": []
  }
 ],
 "metadata": {
  "kernelspec": {
   "display_name": "Python 3.11 (default)",
   "language": "python",
   "name": "python3"
  },
  "language_info": {
   "codemirror_mode": {
    "name": "ipython",
    "version": 3
   },
   "file_extension": ".py",
   "mimetype": "text/x-python",
   "name": "python",
   "nbconvert_exporter": "python",
   "pygments_lexer": "ipython3",
   "version": "3.11.6"
  }
 },
 "nbformat": 4,
 "nbformat_minor": 5
}
