{
 "cells": [
  {
   "cell_type": "code",
   "execution_count": 4,
   "id": "2be60de0-f270-4281-a752-02b38c9664df",
   "metadata": {},
   "outputs": [],
   "source": [
    "import pandas as pd\n",
    "import pandas as pd\n",
    "from sklearn.model_selection import train_test_split\n",
    "from sklearn.feature_extraction.text import TfidfVectorizer\n",
    "from sklearn.svm import SVC\n",
    "from sklearn.metrics import classification_report\n",
    "from gensim.models import Word2Vec\n",
    "from nltk.tokenize import word_tokenize"
   ]
  },
  {
   "cell_type": "code",
   "execution_count": 5,
   "id": "b7767381-5f08-45b8-bd3b-58a26da5d91f",
   "metadata": {},
   "outputs": [
    {
     "name": "stdout",
     "output_type": "stream",
     "text": [
      "              precision    recall  f1-score   support\n",
      "\n",
      "       anger       0.63      0.77      0.70       798\n",
      "        fear       0.75      0.58      0.65       288\n",
      "         joy       0.69      0.69      0.69       803\n",
      "        love       0.76      0.81      0.78       763\n",
      "     sadness       0.65      0.70      0.67       635\n",
      "    surprise       0.72      0.65      0.69       555\n",
      "       total       0.69      0.06      0.11       158\n",
      "\n",
      "    accuracy                           0.69      4000\n",
      "   macro avg       0.70      0.61      0.61      4000\n",
      "weighted avg       0.70      0.69      0.68      4000\n",
      "\n"
     ]
    }
   ],
   "source": [
    "df = pd.read_csv(\"final_df.csv\")\n",
    "# Drop unnecessary columns\n",
    "df = df.drop(columns=[\"Unnamed: 0\"])\n",
    "df = df[:20000]\n",
    "# Separate features and labels\n",
    "X = df[\"text\"]\n",
    "y = df.drop(columns=[\"text\"])\n",
    "\n",
    "# Convert text data to numerical features using TF-IDF\n",
    "vectorizer = TfidfVectorizer()\n",
    "X_tfidf = vectorizer.fit_transform(X)\n",
    "\n",
    "# Flatten the multi-label y into a single label format\n",
    "y_single_label = y.idxmax(axis=1)\n",
    "\n",
    "# Split the data into training and testing sets\n",
    "X_train, X_test, y_train, y_test = train_test_split(X_tfidf, y_single_label, test_size=0.2, random_state=42)\n",
    "\n",
    "# Initialize and train the SVM model\n",
    "svm_model = SVC(kernel='linear')  # You can try different kernels (e.g., 'rbf', 'poly')\n",
    "svm_model.fit(X_train, y_train)\n",
    "\n",
    "# Evaluate the model\n",
    "y_pred = svm_model.predict(X_test)\n",
    "print(classification_report(y_test, y_pred))"
   ]
  },
  {
   "cell_type": "code",
   "execution_count": null,
   "id": "09b7ec0b-e437-4144-80d8-2de84095a97c",
   "metadata": {},
   "outputs": [],
   "source": [
    "# Convert text data to numerical features using TF-IDF\n",
    "tfidf_vectorizer = TfidfVectorizer()\n",
    "X_tfidf = tfidf_vectorizer.fit_transform(X)\n",
    "\n",
    "# Word embeddings using Word2Vec\n",
    "word_embeddings_model = Word2Vec(sentences=X, vector_size=100, window=5, min_count=1, workers=4)\n",
    "word_embeddings = np.array([np.mean([word_embeddings_model.wv[word] for word in sentence.split() if word in word_embeddings_model.wv] or [np.zeros(100)], axis=0) for sentence in X])\n",
    "\n",
    "# Combine TF-IDF and word embeddings\n",
    "X_combined = np.hstack((X_tfidf.toarray(), word_embeddings))\n",
    "\n",
    "# Split the data into training and testing sets\n",
    "X_train, X_test, y_train, y_test = train_test_split(X_combined, y, test_size=0.2, random_state=42)\n",
    "\n",
    "# Initialize and train the SVM model\n",
    "svm_model = SVC(kernel='linear')  # You can try different kernels (e.g., 'rbf', 'poly')\n",
    "svm_model.fit(X_train, y_train)\n",
    "\n",
    "# Evaluate the model\n",
    "y_pred = svm_model.predict(X_test)\n",
    "print(classification_report(y_test, y_pred))"
   ]
  }
 ],
 "metadata": {
  "kernelspec": {
   "display_name": "Python 3.11 (default)",
   "language": "python",
   "name": "python3"
  },
  "language_info": {
   "codemirror_mode": {
    "name": "ipython",
    "version": 3
   },
   "file_extension": ".py",
   "mimetype": "text/x-python",
   "name": "python",
   "nbconvert_exporter": "python",
   "pygments_lexer": "ipython3",
   "version": "3.11.6"
  }
 },
 "nbformat": 4,
 "nbformat_minor": 5
}
